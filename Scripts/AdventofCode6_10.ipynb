{
  "nbformat": 4,
  "nbformat_minor": 0,
  "metadata": {
    "colab": {
      "provenance": [],
      "authorship_tag": "ABX9TyMmB6/2mr3jlEnzacXDSYs0",
      "include_colab_link": true
    },
    "kernelspec": {
      "name": "python3",
      "display_name": "Python 3"
    },
    "language_info": {
      "name": "python"
    }
  },
  "cells": [
    {
      "cell_type": "markdown",
      "metadata": {
        "id": "view-in-github",
        "colab_type": "text"
      },
      "source": [
        "<a href=\"https://colab.research.google.com/github/emmacwatts/AdventofCode/blob/main/AdventofCode6_10.ipynb\" target=\"_parent\"><img src=\"https://colab.research.google.com/assets/colab-badge.svg\" alt=\"Open In Colab\"/></a>"
      ]
    },
    {
      "cell_type": "markdown",
      "source": [
        "--- Day 6: Tuning Trouble ---\n",
        "\n",
        "The preparations are finally complete; you and the Elves leave camp on foot and begin to make your way toward the star fruit grove.\n",
        "\n",
        "As you move through the dense undergrowth, one of the Elves gives you a handheld device. He says that it has many fancy features, but the most important one to set up right now is the communication system.\n",
        "\n",
        "However, because he's heard you have significant experience dealing with signal-based systems, he convinced the other Elves that it would be okay to give you their one malfunctioning device - surely you'll have no problem fixing it.\n",
        "\n",
        "As if inspired by comedic timing, the device emits a few colorful sparks.\n",
        "\n",
        "To be able to communicate with the Elves, the device needs to lock on to their signal. The signal is a series of seemingly-random characters that the device receives one at a time.\n",
        "\n",
        "To fix the communication system, you need to add a subroutine to the device that detects a start-of-packet marker in the datastream. In the protocol being used by the Elves, the start of a packet is indicated by a sequence of four characters that are all different.\n",
        "\n",
        "The device will send your subroutine a datastream buffer (your puzzle input); your subroutine needs to identify the first position where the four most recently received characters were all different. Specifically, it needs to report the number of characters from the beginning of the buffer to the end of the first such four-character marker.\n",
        "\n",
        "For example, suppose you receive the following datastream buffer:\n",
        "\n",
        "mjqjpqmgbljsphdztnvjfqwrcgsmlb\n",
        "After the first three characters (mjq) have been received, there haven't been enough characters received yet to find the marker. The first time a marker could occur is after the fourth character is received, making the most recent four characters mjqj. Because j is repeated, this isn't a marker.\n",
        "\n",
        "The first time a marker appears is after the seventh character arrives. Once it does, the last four characters received are jpqm, which are all different. In this case, your subroutine should report the value 7, because the first start-of-packet marker is complete after 7 characters have been processed.\n",
        "\n",
        "Here are a few more examples:\n",
        "\n",
        "bvwbjplbgvbhsrlpgdmjqwftvncz: first marker after character 5\n",
        "nppdvjthqldpwncqszvftbrmjlhg: first marker after character 6\n",
        "nznrnfrfntjfmvfwmzdfjlvtqnbhcprsg: first marker after character 10\n",
        "zcfzfwzzqfrljwzlrfnpqdbhtmscgvjw: first marker after character 11\n",
        "How many characters need to be processed before the first start-of-packet marker is detected?\n",
        "\n"
      ],
      "metadata": {
        "id": "YhlHZ-CJeBxq"
      }
    },
    {
      "cell_type": "code",
      "source": [
        "from google.colab import drive\n",
        "drive.mount('/content/drive')"
      ],
      "metadata": {
        "colab": {
          "base_uri": "https://localhost:8080/"
        },
        "id": "HUZ8Ss3E0D5o",
        "outputId": "de7eb43e-ddf0-45a1-c021-f5a6ae54a728"
      },
      "execution_count": null,
      "outputs": [
        {
          "output_type": "stream",
          "name": "stdout",
          "text": [
            "Mounted at /content/drive\n"
          ]
        }
      ]
    },
    {
      "cell_type": "code",
      "execution_count": null,
      "metadata": {
        "colab": {
          "base_uri": "https://localhost:8080/"
        },
        "id": "dYm9m2GSdjbD",
        "outputId": "33b5c826-2afc-4836-cbd5-5755b9160d99"
      },
      "outputs": [
        {
          "output_type": "stream",
          "name": "stdout",
          "text": [
            "crjs\n",
            "1198\n"
          ]
        }
      ],
      "source": [
        "#from google.colab import drive\n",
        "#drive.mount('/content/drive')\n",
        "\n",
        "dataStreamBuffer = open(\"/content/drive/MyDrive/Colab Notebooks/Advent of Code/subroutineMarkers\", \"r\").read()\n",
        "\n",
        "starterPackFound = False\n",
        "\n",
        "while starterPackFound == False:\n",
        "  for characterIndex in range(0, len(dataStreamBuffer)):\n",
        "    fourCharacters = dataStreamBuffer[characterIndex:characterIndex+4]\n",
        "    if len(set(fourCharacters)) == 4:\n",
        "      starterPackFound = True\n",
        "      starterPackIndex = dataStreamBuffer.find(fourCharacters)\n",
        "      break\n",
        "      \n",
        "    #characterCounts = {}\n",
        "    #for character in fourCharacters:\n",
        "    #  if character in characterCounts.keys():\n",
        "    #    characterCounts[character] +=1\n",
        "    #  else:\n",
        "    #    characterCounts[character] = 1\n",
        "    #if len(characterCounts) == 4:\n",
        "    #  starterPackFound = True\n",
        "    #  starterPack = ''\n",
        "    #  for character in characterCounts.keys():\n",
        "    #    starterPack += character\n",
        "    #  starterPackIndex = dataStreamBuffer.find(starterPack)\n",
        "\n",
        "print(fourCharacters)\n",
        "print(starterPackIndex+4) #plus 4 because we want end character\n",
        "\n",
        "#4092 is too high\n",
        "#4091 is also too high"
      ]
    },
    {
      "cell_type": "code",
      "source": [
        "x=open(\"/content/drive/MyDrive/Colab Notebooks/Advent of Code/subroutineMarkers\", \"r\").read()\n",
        "\n",
        "\n",
        "a=list(x[:4])\n",
        "\n",
        "for i in range(4,len(x)):\n",
        "    if len(set(a))==4:print(i);break\n",
        "    a.pop(0)\n",
        "    a.append(x[i])\n",
        "\n",
        "print(a)\n",
        "print(x.find('crjs'))"
      ],
      "metadata": {
        "colab": {
          "base_uri": "https://localhost:8080/"
        },
        "id": "FLoiD70ydn0S",
        "outputId": "ec8ae49b-d328-4198-935e-f1c84a3d6222"
      },
      "execution_count": null,
      "outputs": [
        {
          "output_type": "stream",
          "name": "stdout",
          "text": [
            "1198\n",
            "['c', 'r', 'j', 's']\n",
            "1194\n"
          ]
        }
      ]
    },
    {
      "cell_type": "markdown",
      "source": [
        "--- Part Two ---\n",
        "\n",
        "Your device's communication system is correctly detecting packets, but still isn't working. It looks like it also needs to look for messages.\n",
        "\n",
        "A start-of-message marker is just like a start-of-packet marker, except it consists of 14 distinct characters rather than 4.\n",
        "\n",
        "Here are the first positions of start-of-message markers for all of the above examples:\n",
        "\n",
        "mjqjpqmgbljsphdztnvjfqwrcgsmlb: first marker after character 19\n",
        "bvwbjplbgvbhsrlpgdmjqwftvncz: first marker after character 23\n",
        "nppdvjthqldpwncqszvftbrmjlhg: first marker after character 23\n",
        "nznrnfrfntjfmvfwmzdfjlvtqnbhcprsg: first marker after character 29\n",
        "zcfzfwzzqfrljwzlrfnpqdbhtmscgvjw: first marker after character 26\n",
        "How many characters need to be processed before the first start-of-message marker is detected?"
      ],
      "metadata": {
        "id": "yR5LT4zx2sPF"
      }
    },
    {
      "cell_type": "code",
      "source": [
        "#dataStreamBuffer = open(\"/content/drive/MyDrive/Colab Notebooks/Advent of Code/subroutineMarkers\", \"r\").read()\n",
        "\n",
        "starterPackFound = False\n",
        "\n",
        "while starterPackFound == False:\n",
        "  for characterIndex in range(0, len(dataStreamBuffer)):\n",
        "    fourCharacters = dataStreamBuffer[characterIndex:characterIndex+14]\n",
        "    if len(set(fourCharacters)) == 14:\n",
        "      starterPackFound = True\n",
        "      starterPackIndex = (dataStreamBuffer.find(fourCharacters)+14)\n",
        "      break\n",
        "\n",
        "print(starterPackIndex)"
      ],
      "metadata": {
        "colab": {
          "base_uri": "https://localhost:8080/"
        },
        "id": "Q2z2xXVxwT2G",
        "outputId": "4eb40978-020a-40c4-b6d3-0b0ef666a045"
      },
      "execution_count": null,
      "outputs": [
        {
          "output_type": "stream",
          "name": "stdout",
          "text": [
            "3120\n"
          ]
        }
      ]
    },
    {
      "cell_type": "code",
      "source": [
        "#dataStreamBuffer = open(\"/content/drive/MyDrive/Colab Notebooks/Advent of Code/subroutineMarkers\", \"r\").read()"
      ],
      "metadata": {
        "id": "qjmyVuZZzwwe"
      },
      "execution_count": null,
      "outputs": []
    },
    {
      "cell_type": "markdown",
      "source": [
        "--- Day 7: No Space Left On Device ---\n",
        "\n",
        "You can hear birds chirping and raindrops hitting leaves as the expedition proceeds. Occasionally, you can even hear much louder sounds in the distance; how big do the animals get out here, anyway?\n",
        "\n",
        "The device the Elves gave you has problems with more than just its communication system. You try to run a system update:\n",
        "\n",
        "$ system-update --please --pretty-please-with-sugar-on-top\n",
        "Error: No space left on device\n",
        "Perhaps you can delete some files to make space for the update?\n",
        "\n",
        "You browse around the filesystem to assess the situation and save the resulting terminal output (your puzzle input). For example:\n",
        "\n",
        "$ cd /\n",
        "$ ls\n",
        "dir a\n",
        "14848514 b.txt\n",
        "8504156 c.dat\n",
        "dir d\n",
        "$ cd a\n",
        "$ ls\n",
        "dir e\n",
        "29116 f\n",
        "2557 g\n",
        "62596 h.lst\n",
        "$ cd e\n",
        "$ ls\n",
        "584 i\n",
        "$ cd ..\n",
        "$ cd ..\n",
        "$ cd d\n",
        "$ ls\n",
        "4060174 j\n",
        "8033020 d.log\n",
        "5626152 d.ext\n",
        "7214296 k\n",
        "The filesystem consists of a tree of files (plain data) and directories (which can contain other directories or files). The outermost directory is called /. You can navigate around the filesystem, moving into or out of directories and listing the contents of the directory you're currently in.\n",
        "\n",
        "Within the terminal output, lines that begin with $ are commands you executed, very much like some modern computers:\n",
        "\n",
        "cd means change directory. This changes which directory is the current directory, but the specific result depends on the argument:\n",
        "cd x moves in one level: it looks in the current directory for the directory named x and makes it the current directory.\n",
        "cd .. moves out one level: it finds the directory that contains the current directory, then makes that directory the current directory.\n",
        "cd / switches the current directory to the outermost directory, /.\n",
        "ls means list. It prints out all of the files and directories immediately contained by the current directory:\n",
        "123 abc means that the current directory contains a file named abc with size 123.\n",
        "dir xyz means that the current directory contains a directory named xyz.\n",
        "Given the commands and output in the example above, you can determine that the filesystem looks visually like this:\n",
        "\n",
        "- / (dir)\n",
        "  - a (dir)\n",
        "    - e (dir)\n",
        "      - i (file, size=584)\n",
        "    - f (file, size=29116)\n",
        "    - g (file, size=2557)\n",
        "    - h.lst (file, size=62596)\n",
        "  - b.txt (file, size=14848514)\n",
        "  - c.dat (file, size=8504156)\n",
        "  - d (dir)\n",
        "    - j (file, size=4060174)\n",
        "    - d.log (file, size=8033020)\n",
        "    - d.ext (file, size=5626152)\n",
        "    - k (file, size=7214296)\n",
        "Here, there are four directories: / (the outermost directory), a and d (which are in /), and e (which is in a). These directories also contain files of various sizes.\n",
        "\n",
        "Since the disk is full, your first step should probably be to find directories that are good candidates for deletion. To do this, you need to determine the total size of each directory. The total size of a directory is the sum of the sizes of the files it contains, directly or indirectly. (Directories themselves do not count as having any intrinsic size.)\n",
        "\n",
        "The total sizes of the directories above can be found as follows:\n",
        "\n",
        "The total size of directory e is 584 because it contains a single file i of size 584 and no other directories.\n",
        "The directory a has total size 94853 because it contains files f (size 29116), g (size 2557), and h.lst (size 62596), plus file i indirectly (a contains e which contains i).\n",
        "Directory d has total size 24933642.\n",
        "As the outermost directory, / contains every file. Its total size is 48381165, the sum of the size of every file.\n",
        "To begin, find all of the directories with a total size of at most 100000, then calculate the sum of their total sizes. In the example above, these directories are a and e; the sum of their total sizes is 95437 (94853 + 584). (As in this example, this process can count files more than once!)\n",
        "\n",
        "Find all of the directories with a total size of at most 100000. What is the sum of the total sizes of those directories?\n",
        "\n"
      ],
      "metadata": {
        "id": "519ks7Dlzahy"
      }
    },
    {
      "cell_type": "code",
      "source": [
        "f = open(\"/content/drive/MyDrive/Colab Notebooks/Advent of Code/directories\", \"r\")\n",
        "\n",
        "\n",
        "for line in f:\n",
        "  line = line.strip().strip('$ ')\n",
        "  \n"
      ],
      "metadata": {
        "colab": {
          "base_uri": "https://localhost:8080/",
          "height": 225
        },
        "id": "nlI92fZEzWhb",
        "outputId": "a6daa554-62cd-4995-9c80-53d4d6e00672"
      },
      "execution_count": null,
      "outputs": [
        {
          "output_type": "error",
          "ename": "NameError",
          "evalue": "ignored",
          "traceback": [
            "\u001b[0;31m---------------------------------------------------------------------------\u001b[0m",
            "\u001b[0;31mNameError\u001b[0m                                 Traceback (most recent call last)",
            "\u001b[0;32m<ipython-input-4-f5abad950ad9>\u001b[0m in \u001b[0;36m<module>\u001b[0;34m\u001b[0m\n\u001b[1;32m      2\u001b[0m \u001b[0;34m\u001b[0m\u001b[0m\n\u001b[1;32m      3\u001b[0m \u001b[0;34m\u001b[0m\u001b[0m\n\u001b[0;32m----> 4\u001b[0;31m \u001b[0;32mfor\u001b[0m \u001b[0mline\u001b[0m \u001b[0;32min\u001b[0m \u001b[0mreverse\u001b[0m\u001b[0;34m(\u001b[0m\u001b[0mf\u001b[0m\u001b[0;34m)\u001b[0m\u001b[0;34m:\u001b[0m\u001b[0;34m\u001b[0m\u001b[0;34m\u001b[0m\u001b[0m\n\u001b[0m\u001b[1;32m      5\u001b[0m   \u001b[0mline\u001b[0m \u001b[0;34m=\u001b[0m \u001b[0mline\u001b[0m\u001b[0;34m.\u001b[0m\u001b[0mstrip\u001b[0m\u001b[0;34m(\u001b[0m\u001b[0;34m)\u001b[0m\u001b[0;34m.\u001b[0m\u001b[0mstrip\u001b[0m\u001b[0;34m(\u001b[0m\u001b[0;34m'$ '\u001b[0m\u001b[0;34m)\u001b[0m\u001b[0;34m\u001b[0m\u001b[0;34m\u001b[0m\u001b[0m\n",
            "\u001b[0;31mNameError\u001b[0m: name 'reverse' is not defined"
          ]
        }
      ]
    },
    {
      "cell_type": "code",
      "source": [],
      "metadata": {
        "id": "OtoJ8B1B0RGk"
      },
      "execution_count": null,
      "outputs": []
    }
  ]
}
